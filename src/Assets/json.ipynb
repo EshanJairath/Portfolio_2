{
 "cells": [
  {
   "cell_type": "code",
   "execution_count": 3,
   "metadata": {},
   "outputs": [
    {
     "name": "stdout",
     "output_type": "stream",
     "text": [
      "[{'cell_type': 'code', 'execution_count': None, 'metadata': {}, 'outputs': [], 'source': \"print('hello World')\\nprint('this test passed')\"}]\n"
     ]
    }
   ],
   "source": [
    "from nbformat import read\n",
    "\n",
    "with open(\"riya.ipynb\") as f:\n",
    "    nb = read(f, 4)\n",
    "\n",
    "# You can now access the notebook elements\n",
    "print(nb.cells)\n",
    "\n"
   ]
  }
 ],
 "metadata": {
  "kernelspec": {
   "display_name": "Python 3",
   "language": "python",
   "name": "python3"
  },
  "language_info": {
   "codemirror_mode": {
    "name": "ipython",
    "version": 3
   },
   "file_extension": ".py",
   "mimetype": "text/x-python",
   "name": "python",
   "nbconvert_exporter": "python",
   "pygments_lexer": "ipython3",
   "version": "3.9.5 (tags/v3.9.5:0a7dcbd, May  3 2021, 17:27:52) [MSC v.1928 64 bit (AMD64)]"
  },
  "orig_nbformat": 4,
  "vscode": {
   "interpreter": {
    "hash": "c057f2c16e68676003d96bf48b31ad7a1f3fb73e429208158de9ae49eb6d592f"
   }
  }
 },
 "nbformat": 4,
 "nbformat_minor": 2
}
